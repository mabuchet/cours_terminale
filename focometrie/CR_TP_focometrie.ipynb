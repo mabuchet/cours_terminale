{
 "cells": [
  {
   "cell_type": "markdown",
   "id": "e8f80f9c",
   "metadata": {},
   "source": [
    "# <p style=\"text-align: center;\">Compte rendu du TP \"focométrie\"</p>\n"
   ]
  },
  {
   "cell_type": "markdown",
   "id": "38cba9ae",
   "metadata": {},
   "source": [
    "But du TP : Déterminer la distance focale de la lentille convergente.\n",
    "\n",
    "\n",
    "_NB : \n",
    "Le résultat annoncé à la fin de chaque expérience n'est pas mis à jour automatiquement. Si le script est réutilisé avec de nouvelles données, il faut donc penser à actualiser manuellement les résultats._"
   ]
  },
  {
   "cell_type": "code",
   "execution_count": 1,
   "id": "c24cc04b",
   "metadata": {},
   "outputs": [],
   "source": [
    "# Imports des bibliothèques utiles :\n",
    "import numpy as np\n",
    "import matplotlib.pyplot as plt\n",
    "import matplotlib.patches as patch\n",
    "\n",
    "# Paramétrage des graphes (mise en gras des graduations des axes) :\n",
    "font = {'family' : 'sans','weight' : 'bold', 'size'   : 12}\n",
    "plt.rc('font', **font)"
   ]
  },
  {
   "cell_type": "markdown",
   "id": "7bfa9ba0",
   "metadata": {},
   "source": [
    "## Détermination de la focale à l'aide de la relation de conjugaison"
   ]
  },
  {
   "cell_type": "markdown",
   "id": "9eeaab9d",
   "metadata": {},
   "source": [
    "### Protocole :\n",
    "\n",
    "On place l'écran à une distance d'environ deux mètres de l'objet.\n",
    "\n",
    "On positionne la lentille de sorte à former une image nette sur l'écran. \n",
    "\n",
    "On mesure la distance $d_1$ entre l'objet et la monture de la lentille puis la distance $d_2$ entre la monture de la lentille et l'écran :\n",
    "\n",
    "<img src=\"schema_expe_1.jpg\" alt=\"Schéma de l'expérience 1\" width=\"400\"/>\n",
    "\n",
    "La mesure se fait au mètre ruban, précis au millimètre.\n",
    "\n",
    "Les distances sont déterminées avec une précision estimée à quelques millimètres. Essentiellement à cause de l'indétermination de la position exacte du centre optique de la lentille qui est épaisse de près d'un centimètre et ne se situe probablement pas au niveau de la monture."
   ]
  },
  {
   "cell_type": "markdown",
   "id": "d93cb8fe",
   "metadata": {},
   "source": [
    "### Résultats de mesure :"
   ]
  },
  {
   "cell_type": "code",
   "execution_count": 2,
   "id": "409b2655",
   "metadata": {},
   "outputs": [],
   "source": [
    "# Distance objet-lentille :\n",
    "d1 = 13.0e-2 # m\n",
    "u_d1 = 0.5e-2 # m\n",
    "\n",
    "# Distance lentille-écran :\n",
    "d2 = 177e-2 # m\n",
    "u_d2 = 0.5e-2 # m"
   ]
  },
  {
   "cell_type": "markdown",
   "id": "07dfae3e",
   "metadata": {},
   "source": [
    "### Analyse des données :"
   ]
  },
  {
   "cell_type": "markdown",
   "id": "7fed6b21",
   "metadata": {},
   "source": [
    "#### Calcul de la distance focale :"
   ]
  },
  {
   "cell_type": "markdown",
   "id": "80cd9b37",
   "metadata": {},
   "source": [
    "La relation de conjugaison s'écrit : \n",
    "$$ \\dfrac{1}{\\overline{OA'}} - \\dfrac{1}{\\overline{OA}} = \\dfrac{1}{f'} \\quad \\text{ avec } \\quad \\overline{OA'} = d_2  \\quad \\text{ et } \\quad \\overline{OA} = -d_1 $$\n",
    "\n",
    "Attention aux signes des distances algébriques !\n",
    "\n",
    "On en déduit : $f'=\\dfrac{d_1d_2}{d_1+d_2}$"
   ]
  },
  {
   "cell_type": "code",
   "execution_count": 3,
   "id": "119581c4",
   "metadata": {},
   "outputs": [
    {
     "name": "stdout",
     "output_type": "stream",
     "text": [
      "f' =  0.12110526315789474  m\n"
     ]
    }
   ],
   "source": [
    "f1 = d1*d2/(d1+d2)\n",
    "print(\"f' = \",f1,\" m\")"
   ]
  },
  {
   "cell_type": "markdown",
   "id": "6db5d778",
   "metadata": {},
   "source": [
    "#### Propagation des incertitudes :"
   ]
  },
  {
   "cell_type": "markdown",
   "id": "7f32ce7e",
   "metadata": {},
   "source": [
    "On repart de la relation de conjugaison et on travaille avec les inverses des longueurs : \n",
    "$$ a_1 + a_2 = V \\quad \\text{ avec } \\quad a_1 = \\dfrac{1}{d_1} \\quad ; \\quad a_2 = \\dfrac{1}{d_2} \\quad \\text{ et } \\quad V = \\dfrac{1}{f'} $$\n",
    "On sait calculer l'incertitude de $a_i$ à partir de celle de $d_i$ (fonction d'une seule variable) : $u(a_i) = \\dfrac{u(d_i)}{d_i^2}$ ou, autrement dit, $\\dfrac{u(a_i)}{a_i} = \\dfrac{u(d_i)}{d_i}$.\n",
    "\n",
    "Et on connait l'incertitude d'une somme en fonction de celles de ses termes : $u(V) = \\sqrt{u(a_1)^2+u(a_2)^2}$.\n",
    "\n",
    "Enfin, on peut exprimer l'incertitude de $f'$ à partir de celle de $V$ : $u(f') = \\dfrac{u(V)}{V^2}$"
   ]
  },
  {
   "cell_type": "code",
   "execution_count": 4,
   "id": "2afc88eb",
   "metadata": {},
   "outputs": [
    {
     "name": "stdout",
     "output_type": "stream",
     "text": [
      "u(f') =  0.004339259808914373  m\n"
     ]
    }
   ],
   "source": [
    "# Calcul des a_i et u(a_i) :\n",
    "a1 = 1./d1\n",
    "u_a1 = u_d1/d1**2\n",
    "a2 = 1./d2\n",
    "u_a2 = u_d2/d2**2\n",
    "\n",
    "# Calcul de V et u(V) :\n",
    "V = a1 + a2\n",
    "u_V = np.sqrt( u_a1**2 + u_a2**2 )\n",
    "\n",
    "# Calcul de u(f') :\n",
    "u_f1 = u_V/V**2\n",
    "print(\"u(f') = \",u_f1,\" m\")"
   ]
  },
  {
   "cell_type": "markdown",
   "id": "3ebf0a40",
   "metadata": {},
   "source": [
    "On retiendra donc : $$f' = \\text{12,1} \\pm \\text{0,4 } cm$$"
   ]
  },
  {
   "cell_type": "markdown",
   "id": "4896fd76",
   "metadata": {},
   "source": [
    "## Détermination de la focale à l'aide de la méthode de Bessel"
   ]
  },
  {
   "cell_type": "markdown",
   "id": "faac3786",
   "metadata": {},
   "source": [
    "### Protocole : "
   ]
  },
  {
   "cell_type": "markdown",
   "id": "1f0dded7",
   "metadata": {},
   "source": [
    "On place l'écran à une distance $D>4f'$ de l'objet de sorte qu'il existe deux positions de la lentille donnant des images nettes sur l'écran :\n",
    "\n",
    "<img src=\"schema_expe_2.jpg\" alt=\"Schéma de l'expérience 2\" width=\"400\"/>\n",
    "\n",
    "On mesure la distance $D$ entre l'objet et l'écran. Cette mesure est ici relativement précise car ces objets sont facilement repérables. On considère qu'on est donc précis au millimètre près.\n",
    "\n",
    "On positionne la lentille pour former l'image agrandie de l'objet (lentille plus proche de l'objet que de l'écran). On mesure alors la $d_-$ distance entre l'objet et <b>la monture</b> de la lentille. \n",
    "\n",
    "On déplace la lentille pour former l'image rétrécie de l'objet (lentille plus proche de l'écran que de l'objet). On mesure alors la $d_+$ distance entre l'objet et <b>la monture</b> de la lentille. \n",
    "\n",
    "Ces deux dernières mesures sont également précises au millimètre près, en particulier parce qu'on mesure la position de la monture de la lentille et non pas du centre optique."
   ]
  },
  {
   "cell_type": "code",
   "execution_count": 5,
   "id": "d0e7186f",
   "metadata": {},
   "outputs": [],
   "source": [
    "# Mesure de D : \n",
    "D = 85.4e-2 # m\n",
    "u_D = 0.1e-2 # m\n",
    "\n",
    "# Mesure de d_- :\n",
    "d_moins = 13.7e-2 # m\n",
    "u_d_moins = 0.1e-2 # m\n",
    "\n",
    "# Mesure de d_+ :\n",
    "d_plus = 70.0e-2 # m\n",
    "u_d_plus = 0.1e-2 # m"
   ]
  },
  {
   "cell_type": "markdown",
   "id": "34bc0562",
   "metadata": {},
   "source": [
    "### Analyse des données :"
   ]
  },
  {
   "cell_type": "markdown",
   "id": "e97ccdf2",
   "metadata": {},
   "source": [
    "#### Calcul de la distance focale :"
   ]
  },
  {
   "cell_type": "markdown",
   "id": "5fb9623d",
   "metadata": {},
   "source": [
    "On montre que $d_+-d_- = \\sqrt{D^2-4Df'}$ soit $(d_+-d_-)^2 = D^2-4Df'$. Donc :\n",
    "$$ f' = \\dfrac{D^2-(d_+-d_-)^2}{4D} $$"
   ]
  },
  {
   "cell_type": "code",
   "execution_count": 6,
   "id": "72ce3635",
   "metadata": {},
   "outputs": [
    {
     "name": "stdout",
     "output_type": "stream",
     "text": [
      "f =  0.12071048009367683  m\n"
     ]
    }
   ],
   "source": [
    "def focale(D,d_plus,d_moins):\n",
    "    return (D**2-(d_plus-d_moins)**2)/(4*D)\n",
    "\n",
    "f2 = focale(D,d_plus,d_moins)\n",
    "print(\"f = \",f2,\" m\")"
   ]
  },
  {
   "cell_type": "markdown",
   "id": "9fc0ae51",
   "metadata": {},
   "source": [
    "#### Estimation de l'incertitude à l'aide d'une simulation Monte-Carlo :"
   ]
  },
  {
   "cell_type": "code",
   "execution_count": 7,
   "id": "7f08b832",
   "metadata": {},
   "outputs": [
    {
     "name": "stdout",
     "output_type": "stream",
     "text": [
      "moyenne des f = 0.12070538845245583\n",
      "écart-type des f = 0.0005859295516377828\n"
     ]
    },
    {
     "data": {
      "image/png": "[encoded data removed]",
      "text/plain": [
       "<Figure size 432x288 with 1 Axes>"
      ]
     },
     "metadata": {
      "needs_background": "light"
     },
     "output_type": "display_data"
    }
   ],
   "source": [
    "N = 10000\n",
    "\n",
    "# On tire aléatoirement N valeurs de D, N valeurs de d_+ et N valeurs de d_- :\n",
    "D_alea = np.random.normal(D,u_D,N)\n",
    "d_plus_alea = np.random.normal(d_plus,u_d_plus,N)\n",
    "d_moins_alea = np.random.normal(d_moins,u_d_moins,N)\n",
    "\n",
    "# On calcule les focales correspondantes :\n",
    "f_alea = focale(D_alea,d_plus_alea,d_moins_alea)\n",
    "\n",
    "# On calcule les paramètres statistiques pertinents :\n",
    "f_moy = f_alea.mean()\n",
    "f_ect = f_alea.std()\n",
    "\n",
    "print(\"moyenne des f =\",f_moy)\n",
    "print(\"écart-type des f =\",f_ect)\n",
    "\n",
    "# On visualise la distribution avec un histogramme :\n",
    "figname = \"histogramme des focales\"\n",
    "fig = plt.figure(figname)\n",
    "N_bins = int(np.sqrt(N))\n",
    "hist,bins,_ = plt.hist(f_alea, bins=N_bins)\n",
    "\n",
    "# On ajoute les paramètres statistiques sur le graphe :\n",
    "y_min = 0\n",
    "y_max = max(hist)\n",
    "plt.plot([f_moy,f_moy],[y_min,y_max],color = 'r')\n",
    "xy=(f_moy-f_ect,0)\n",
    "width = 2*f_ect\n",
    "height = y_max-y_min\n",
    "plt.gca().add_patch(patch.Rectangle(xy,width,height,color='r',alpha=0.5))\n",
    "\n",
    "plt.show()\n",
    "\n",
    "fig.savefig(\"histogramme.pdf\", bbox_inches='tight')"
   ]
  },
  {
   "cell_type": "markdown",
   "id": "4a7be949",
   "metadata": {},
   "source": [
    "L'incertitude-type sur $f'$ est l'écart-type de cette distribution :"
   ]
  },
  {
   "cell_type": "code",
   "execution_count": 8,
   "id": "03dc1a3b",
   "metadata": {},
   "outputs": [],
   "source": [
    "u_f2 = f_ect"
   ]
  },
  {
   "cell_type": "markdown",
   "id": "05186ded",
   "metadata": {},
   "source": [
    "On retiendra donc : $$f' = \\text{12,07} \\pm \\text{0,06 } cm$$"
   ]
  },
  {
   "cell_type": "markdown",
   "id": "1782e456",
   "metadata": {},
   "source": [
    "## Comparaison des deux résultats :"
   ]
  },
  {
   "cell_type": "markdown",
   "id": "a9f8dffd",
   "metadata": {},
   "source": [
    "On calcule la différence $\\Delta$ entre les deux résultats :"
   ]
  },
  {
   "cell_type": "code",
   "execution_count": 9,
   "id": "56b38283",
   "metadata": {},
   "outputs": [
    {
     "name": "stdout",
     "output_type": "stream",
     "text": [
      "Delta =  0.0003947830642179184  m\n"
     ]
    }
   ],
   "source": [
    "Delta = abs(f1-f2)\n",
    "print(\"Delta = \",Delta,\" m\")"
   ]
  },
  {
   "cell_type": "markdown",
   "id": "def51219",
   "metadata": {},
   "source": [
    "On calcule l'incertitude sur $\\Delta$ :"
   ]
  },
  {
   "cell_type": "code",
   "execution_count": 10,
   "id": "2b9a8ab6",
   "metadata": {},
   "outputs": [
    {
     "name": "stdout",
     "output_type": "stream",
     "text": [
      "u_Delta =  0.004378640100389852  m\n"
     ]
    }
   ],
   "source": [
    "u_Delta = np.sqrt(u_f1**2+u_f2**2)\n",
    "print(\"u_Delta = \",u_Delta,\" m\")"
   ]
  },
  {
   "cell_type": "markdown",
   "id": "b381c5dd",
   "metadata": {},
   "source": [
    "On considère que les résultats sont compatibles si $\\Delta$ est plus petit que son incertitude élargie à 95 % (soit 2 fois son incertitude-type) : "
   ]
  },
  {
   "cell_type": "code",
   "execution_count": 11,
   "id": "042bec9a",
   "metadata": {},
   "outputs": [
    {
     "name": "stdout",
     "output_type": "stream",
     "text": [
      "Les résultats sont compatibles :)\n"
     ]
    }
   ],
   "source": [
    "if (Delta<2*u_Delta) : print(\"Les résultats sont compatibles :)\")\n",
    "else : print(\"Les résultats ne sont pas compatibles :(\")"
   ]
  },
  {
   "cell_type": "markdown",
   "id": "a9613e75",
   "metadata": {},
   "source": [
    "## Conclusion :"
   ]
  },
  {
   "cell_type": "markdown",
   "id": "4ddb9eb8",
   "metadata": {},
   "source": [
    "Les deux mesures sont en accord sur la valeur de la foclae trouvée, ce qui est satisfaisant. \n",
    "\n",
    "On constate que la méthode de Bessel est plus précise que la méthode simple. Cela vient en particulier du fait qu'on n'a pas besoin de connaître précisément la position du centre optique par rapport à la monture de la lentille (un décalage du centre optique par rapport à la monture se simplifie dans la différence $d_+-d_-$)."
   ]
  },
  {
   "cell_type": "markdown",
   "id": "053ce413",
   "metadata": {},
   "source": [
    "## Pour aller plus loin :"
   ]
  },
  {
   "cell_type": "markdown",
   "id": "54d93f40",
   "metadata": {},
   "source": [
    "On pourrait mesurer $d_+$ et $d_-$ pour plusieurs valeurs de $D$ ce qui permettrait sans doute d'accroître encore la précision sur le résultat de la focale.\n",
    "\n",
    "On constate également que ces mesures qui s'appuient sur la formation d'une image sur un écran ne peuvent pas être mises en œuvre pour des lentilles divergentes. Il faudrait donc chercher une autre méthode pour la focométrie des lentilles divergentes."
   ]
  }
 ],
 "metadata": {
  "ipub": {
   "titlepage": {
    "author": "Marc-Antoine BUCHET",
    "title": "Main-Title"
   }
  },
  "kernelspec": {
   "display_name": "Python 3",
   "language": "python",
   "name": "python3"
  },
  "language_info": {
   "codemirror_mode": {
    "name": "ipython",
    "version": 3
   },
   "file_extension": ".py",
   "mimetype": "text/x-python",
   "name": "python",
   "nbconvert_exporter": "python",
   "pygments_lexer": "ipython3",
   "version": "3.9.5"
  }
 },
 "nbformat": 4,
 "nbformat_minor": 5
}
